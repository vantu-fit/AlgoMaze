{
 "cells": [
  {
   "cell_type": "code",
   "execution_count": 2,
   "metadata": {},
   "outputs": [],
   "source": [
    "import os"
   ]
  },
  {
   "cell_type": "code",
   "execution_count": 3,
   "metadata": {},
   "outputs": [
    {
     "data": {
      "text/plain": [
       "['a_star', 'bfs', 'dfs', 't.ipynb', 'ucs']"
      ]
     },
     "execution_count": 3,
     "metadata": {},
     "output_type": "execute_result"
    }
   ],
   "source": [
    "os.listdir('./')"
   ]
  },
  {
   "cell_type": "code",
   "execution_count": 10,
   "metadata": {},
   "outputs": [],
   "source": [
    "res=[[] for _ in range(10)]\n",
    "for algo in os.listdir('./'):\n",
    "    if (algo=='t.ipynb'): continue\n",
    "    for i,outfile in enumerate(os.listdir('./'+algo)):\n",
    "        with open(\"./\"+algo+'/'+outfile,'r') as f:\n",
    "            res[i].extend(f.readlines())\n",
    "        if (algo=='ucs'):\n",
    "            with open(\"./\"+algo+'/'+outfile,'w') as f:\n",
    "                f.writelines(res[i])"
   ]
  },
  {
   "cell_type": "code",
   "execution_count": null,
   "metadata": {},
   "outputs": [
    {
     "data": {
      "text/plain": [
       "['A*\\n',\n",
       " 'Steps: 14, Weight: 35, Node: 93, Time (ms): 1.01, Memory (MB): 32.52\\n',\n",
       " 'ullllluRRurDDD\\n',\n",
       " 'BFS\\n',\n",
       " 'Steps: 14, Weight: 35, Node: 532, Time (ms): 6.70, Memory (MB): 16.09\\n',\n",
       " 'uuullllDDDldRR\\n',\n",
       " 'DFS\\n',\n",
       " 'Steps: 18, Weight: 35, Node: 119, Time (ms): 0.51, Memory (MB): 15.97\\n',\n",
       " 'lllllluruRRlurrDDD\\n',\n",
       " 'UCS\\n',\n",
       " 'Steps: 29, Weight: 339, Node: 44407, Time (ms): 1687.79, Memory (MB): 78.59\\n',\n",
       " 'uuuRRurDrruLdlDDDDuuluuuurDDD\\n']"
      ]
     },
     "execution_count": 8,
     "metadata": {},
     "output_type": "execute_result"
    }
   ],
   "source": []
  },
  {
   "cell_type": "code",
   "execution_count": null,
   "metadata": {},
   "outputs": [],
   "source": []
  }
 ],
 "metadata": {
  "kernelspec": {
   "display_name": "AIChallenge2024",
   "language": "python",
   "name": "python3"
  },
  "language_info": {
   "codemirror_mode": {
    "name": "ipython",
    "version": 3
   },
   "file_extension": ".py",
   "mimetype": "text/x-python",
   "name": "python",
   "nbconvert_exporter": "python",
   "pygments_lexer": "ipython3",
   "version": "3.10.8"
  }
 },
 "nbformat": 4,
 "nbformat_minor": 2
}
